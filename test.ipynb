{
 "cells": [
  {
   "cell_type": "code",
   "execution_count": 7,
   "outputs": [],
   "source": [
    "import numpy as np\n",
    "import tensorflow as tf\n",
    "from tensorflow import keras\n",
    "from tensorflow.keras import layers\n",
    "import tensorflow_addons as tfa\n",
    "import matplotlib.pyplot as plt\n",
    "import numpy as np\n",
    "import cv2\n",
    "import os\n",
    "import scipy.io\n",
    "import shutil"
   ],
   "metadata": {
    "collapsed": false,
    "ExecuteTime": {
     "start_time": "2023-04-23T21:16:42.872090Z",
     "end_time": "2023-04-23T21:16:42.915775Z"
    }
   }
  },
  {
   "cell_type": "code",
   "execution_count": 10,
   "outputs": [],
   "source": [
    "# Path to images and annotations\n",
    "path_images = \"101_ObjectCategories/airplanes/\"\n",
    "path_annot = \"Annotations/Airplanes_Side_2/\"\n",
    "\n",
    "\n",
    "# list of paths to images and annotations\n",
    "image_paths = [\n",
    "    f for f in os.listdir(path_images) if os.path.isfile(os.path.join(path_images, f))\n",
    "]\n",
    "annot_paths = [\n",
    "    f for f in os.listdir(path_annot) if os.path.isfile(os.path.join(path_annot, f))\n",
    "]\n",
    "\n",
    "image_paths.sort()\n",
    "annot_paths.sort()\n",
    "\n",
    "image_size = 224  # resize input images to this size\n",
    "\n",
    "images, targets = [], []\n",
    "\n",
    "# loop over the annotations and images, preprocess them and store in lists\n",
    "for i in range(0, len(annot_paths)):\n",
    "    # Access bounding box coordinates\n",
    "    annot = scipy.io.loadmat(path_annot + annot_paths[i])[\"box_coord\"][0]\n",
    "\n",
    "    top_left_x, top_left_y = annot[2], annot[0]\n",
    "    bottom_right_x, bottom_right_y = annot[3], annot[1]\n",
    "\n",
    "    image = keras.utils.load_img(\n",
    "        path_images + image_paths[i],\n",
    "    )\n",
    "    (w, h) = image.size[:2]\n",
    "\n",
    "    # resize train set images\n",
    "    # if i < int(len(annot_paths) * 0.8):\n",
    "        # resize image if it is for training dataset\n",
    "    image = image.resize((image_size, image_size))\n",
    "\n",
    "    # convert image to array and append to list\n",
    "    images.append(keras.utils.img_to_array(image))\n",
    "\n",
    "    # apply relative scaling to bounding boxes as per given image and append to list\n",
    "    targets.append(\n",
    "        (\n",
    "            float(top_left_x) / w,\n",
    "            float(top_left_y) / h,\n",
    "            float(bottom_right_x) / w,\n",
    "            float(bottom_right_y) / h,\n",
    "        )\n",
    "    )\n",
    "\n"
   ],
   "metadata": {
    "collapsed": false,
    "ExecuteTime": {
     "start_time": "2023-04-23T21:18:47.640815Z",
     "end_time": "2023-04-23T21:18:48.588597Z"
    }
   }
  },
  {
   "cell_type": "code",
   "execution_count": null,
   "outputs": [],
   "source": [],
   "metadata": {
    "collapsed": false
   }
  }
 ],
 "metadata": {
  "kernelspec": {
   "display_name": "Python 3",
   "language": "python",
   "name": "python3"
  },
  "language_info": {
   "codemirror_mode": {
    "name": "ipython",
    "version": 2
   },
   "file_extension": ".py",
   "mimetype": "text/x-python",
   "name": "python",
   "nbconvert_exporter": "python",
   "pygments_lexer": "ipython2",
   "version": "2.7.6"
  }
 },
 "nbformat": 4,
 "nbformat_minor": 0
}
