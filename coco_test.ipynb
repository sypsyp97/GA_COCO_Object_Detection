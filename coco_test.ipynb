{
 "cells": [
  {
   "cell_type": "code",
   "execution_count": 8,
   "metadata": {
    "collapsed": true,
    "ExecuteTime": {
     "start_time": "2023-04-14T17:30:22.043550Z",
     "end_time": "2023-04-14T17:30:38.346015Z"
    }
   },
   "outputs": [
    {
     "name": "stdout",
     "output_type": "stream",
     "text": [
      "Downloading split 'train' to '/home/yipeng/fiftyone/coco-2017/train' if necessary\n",
      "Found annotations at '/home/yipeng/fiftyone/coco-2017/raw/instances_train2017.json'\n",
      "Sufficient images already downloaded\n",
      "Existing download of split 'train' is sufficient\n",
      "Loading 'coco-2017' split 'train'\n",
      " 100% |███████████████| 1000/1000 [1.9s elapsed, 0s remaining, 525.9 samples/s]      \n",
      "Dataset 'coco_train_1000' created\n",
      "Downloading split 'validation' to '/home/yipeng/fiftyone/coco-2017/validation' if necessary\n",
      "Found annotations at '/home/yipeng/fiftyone/coco-2017/raw/instances_val2017.json'\n",
      "Sufficient images already downloaded\n",
      "Existing download of split 'validation' is sufficient\n",
      "Loading 'coco-2017' split 'validation'\n",
      " 100% |█████████████████| 100/100 [212.9ms elapsed, 0s remaining, 469.6 samples/s]     \n",
      "Dataset 'coco_val_100' created\n"
     ]
    }
   ],
   "source": [
    "import fiftyone as fo\n",
    "import fiftyone.zoo as foz\n",
    "\n",
    "classes_to_keep = [\n",
    "    \"person\",\n",
    "    \"bicycle\",\n",
    "    \"car\",\n",
    "    \"motorcycle\",\n",
    "    \"airplane\",\n",
    "]\n",
    "\n",
    "train_dataset_name = \"coco_train_1000\"\n",
    "if train_dataset_name in fo.list_datasets():\n",
    "    # Delete the existing dataset\n",
    "    fo.Dataset(train_dataset_name).delete()\n",
    "\n",
    "val_dataset_name = \"coco_val_100\"\n",
    "if val_dataset_name in fo.list_datasets():\n",
    "    # Delete the existing dataset\n",
    "    fo.Dataset(val_dataset_name).delete()\n",
    "\n",
    "train_dataset = foz.load_zoo_dataset(\n",
    "    \"coco-2017\",\n",
    "    label_types=[\"detections\"],\n",
    "    split=\"train\",\n",
    "    classes=classes_to_keep,\n",
    "    max_samples=1000,\n",
    "    shuffle=True,\n",
    "    seed=123,\n",
    "    only_matching=True,\n",
    "    num_workers=10,\n",
    "    dataset_name=train_dataset_name,\n",
    ")\n",
    "\n",
    "val_dataset = foz.load_zoo_dataset(\n",
    "    \"coco-2017\",\n",
    "    label_types=[\"detections\"],\n",
    "    split=\"validation\",\n",
    "    classes=classes_to_keep,\n",
    "    max_samples=100,\n",
    "    shuffle=True,\n",
    "    seed=123,\n",
    "    only_matching=True,\n",
    "    num_workers=10,\n",
    "    dataset_name=val_dataset_name,\n",
    ")\n"
   ]
  },
  {
   "cell_type": "code",
   "execution_count": 9,
   "outputs": [],
   "source": [
    "import os\n",
    "import cv2 as cv\n",
    "\n",
    "output_dir = \"resized_dataset\"\n",
    "os.makedirs(output_dir, exist_ok=True)\n",
    "\n",
    "resized_image_size = (256, 256)\n",
    "\n",
    "def resize_image_and_annotations(sample):\n",
    "\n",
    "    # Resize image\n",
    "    image_path = sample.filepath\n",
    "    image = cv.imread(image_path)\n",
    "    height, width = image.shape[:2]\n",
    "    image = cv.resize(image, resized_image_size)\n",
    "\n",
    "    # Update the file path\n",
    "    resized_image_path = os.path.join(output_dir, os.path.basename(image_path))\n",
    "    sample.filepath = resized_image_path\n",
    "\n",
    "    # Save the resized image\n",
    "    cv.imwrite(resized_image_path, image)\n",
    "\n",
    "    # Update the bounding boxes\n",
    "    scale_x = resized_image_size[0] / float(width)\n",
    "    scale_y = resized_image_size[1] / float(height)\n",
    "\n",
    "    for det in sample[\"ground_truth\"].detections:\n",
    "        x1, y1, x2, y2 = det.bounding_box\n",
    "        x1 = x1 * scale_x\n",
    "        x2 = x2 * scale_x\n",
    "        y1 = y1 * scale_y\n",
    "        y2 = y2 * scale_y\n",
    "        det.bounding_box = [x1, y1, x2, y2]\n",
    "\n",
    "    sample.save()\n",
    "\n",
    "for sample in train_dataset:\n",
    "    resize_image_and_annotations(sample)\n",
    "\n",
    "for sample in val_dataset:\n",
    "    resize_image_and_annotations(sample)\n",
    "\n"
   ],
   "metadata": {
    "collapsed": false,
    "ExecuteTime": {
     "start_time": "2023-04-14T17:30:42.778107Z",
     "end_time": "2023-04-14T17:30:50.365676Z"
    }
   }
  },
  {
   "cell_type": "code",
   "execution_count": null,
   "outputs": [],
   "source": [],
   "metadata": {
    "collapsed": false,
    "pycharm": {
     "is_executing": true
    }
   }
  },
  {
   "cell_type": "code",
   "execution_count": null,
   "outputs": [],
   "source": [],
   "metadata": {
    "collapsed": false
   }
  }
 ],
 "metadata": {
  "kernelspec": {
   "display_name": "Python 3",
   "language": "python",
   "name": "python3"
  },
  "language_info": {
   "codemirror_mode": {
    "name": "ipython",
    "version": 2
   },
   "file_extension": ".py",
   "mimetype": "text/x-python",
   "name": "python",
   "nbconvert_exporter": "python",
   "pygments_lexer": "ipython2",
   "version": "2.7.6"
  }
 },
 "nbformat": 4,
 "nbformat_minor": 0
}
